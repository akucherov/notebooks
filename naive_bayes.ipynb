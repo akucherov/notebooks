{
 "cells": [
  {
   "cell_type": "code",
   "execution_count": 74,
   "metadata": {},
   "outputs": [],
   "source": [
    "import pandas as pd\n",
    "import numpy as np\n",
    "from sklearn.feature_extraction.text import CountVectorizer\n",
    "from scipy import sparse"
   ]
  },
  {
   "cell_type": "code",
   "execution_count": 75,
   "metadata": {},
   "outputs": [],
   "source": [
    "SRC_PATH = './data/'\n",
    "\n",
    "stop_words = [word.strip() for word in open(SRC_PATH + 'stop_words.txt').readlines()]\n",
    "\n",
    "with open(SRC_PATH + 'liberal.txt', 'r') as file:\n",
    "   liberal_text = [line.strip('\\n') for line in file]\n",
    "with open(SRC_PATH + 'labor.txt', 'r') as file:\n",
    "   labor_text = [line.strip('\\n') for line in file]\n",
    "\n"
   ]
  },
  {
   "cell_type": "code",
   "execution_count": 102,
   "metadata": {},
   "outputs": [],
   "source": [
    "vectorizer = CountVectorizer(input='content', stop_words=stop_words, strip_accents='unicode', max_features=50)"
   ]
  },
  {
   "cell_type": "code",
   "execution_count": 103,
   "metadata": {},
   "outputs": [
    {
     "data": {
      "text/plain": [
       "['amp',\n",
       " 'auspol',\n",
       " 'australia',\n",
       " 'australian',\n",
       " 'australians',\n",
       " 'ausvotes',\n",
       " 'bill',\n",
       " 'billion',\n",
       " 'billshortenmp',\n",
       " 'budget',\n",
       " 'budget2019',\n",
       " 'buildingoureconomy',\n",
       " 'businesses',\n",
       " 'cancer',\n",
       " 'care',\n",
       " 'change',\n",
       " 'climate',\n",
       " 'cut',\n",
       " 'cuts',\n",
       " 'deliver',\n",
       " 'economy',\n",
       " 'election',\n",
       " 'funding',\n",
       " 'future',\n",
       " 'government',\n",
       " 'help',\n",
       " 'hospitals',\n",
       " 'jobs',\n",
       " 'labor',\n",
       " 'leadersdebate',\n",
       " 'liberal',\n",
       " 'liberals',\n",
       " 'million',\n",
       " 'minister',\n",
       " 'morrison',\n",
       " 'national',\n",
       " 'pay',\n",
       " 'people',\n",
       " 'plan',\n",
       " 're',\n",
       " 'read',\n",
       " 'schools',\n",
       " 'scott',\n",
       " 'scottmorrisonmp',\n",
       " 'shorten',\n",
       " 'support',\n",
       " 'tax',\n",
       " 'taxes',\n",
       " 'time',\n",
       " 'vote']"
      ]
     },
     "execution_count": 103,
     "metadata": {},
     "output_type": "execute_result"
    }
   ],
   "source": [
    "X = vectorizer.fit_transform(liberal_text+labor_text)\n",
    "vectorizer.get_feature_names()"
   ]
  },
  {
   "cell_type": "code",
   "execution_count": 104,
   "metadata": {},
   "outputs": [],
   "source": [
    "liberal = vectorizer.transform(liberal_text)\n",
    "labor = vectorizer.transform(labor_text)\n",
    "\n",
    "x = sparse.vstack((liberal,labor))"
   ]
  },
  {
   "cell_type": "code",
   "execution_count": 108,
   "metadata": {},
   "outputs": [
    {
     "data": {
      "text/plain": [
       "array([0, 1, 0, 0, 1, 0, 0, 0, 0, 0, 0, 0, 0, 0, 0, 0, 0, 0, 0, 0, 0, 1,\n",
       "       0, 0, 0, 0, 0, 0, 2, 0, 0, 0, 0, 0, 0, 0, 0, 0, 1, 0, 0, 0, 0, 0,\n",
       "       0, 0, 1, 2, 0, 0])"
      ]
     },
     "execution_count": 108,
     "metadata": {},
     "output_type": "execute_result"
    }
   ],
   "source": [
    "liberal.toarray()[247]\n"
   ]
  },
  {
   "cell_type": "code",
   "execution_count": 109,
   "metadata": {},
   "outputs": [
    {
     "data": {
      "text/plain": [
       "array([0, 1, 0, 0, 1, 0, 0, 0, 0, 0, 0, 0, 0, 0, 0, 0, 0, 0, 0, 0, 0, 1,\n",
       "       0, 0, 0, 0, 0, 0, 2, 0, 0, 0, 0, 0, 0, 0, 0, 0, 1, 0, 0, 0, 0, 0,\n",
       "       0, 0, 1, 2, 0, 0])"
      ]
     },
     "execution_count": 109,
     "metadata": {},
     "output_type": "execute_result"
    }
   ],
   "source": [
    "x.toarray()[247]"
   ]
  },
  {
   "cell_type": "code",
   "execution_count": null,
   "metadata": {},
   "outputs": [],
   "source": []
  }
 ],
 "metadata": {
  "kernelspec": {
   "display_name": "Python 3",
   "language": "python",
   "name": "python3"
  },
  "language_info": {
   "codemirror_mode": {
    "name": "ipython",
    "version": 3
   },
   "file_extension": ".py",
   "mimetype": "text/x-python",
   "name": "python",
   "nbconvert_exporter": "python",
   "pygments_lexer": "ipython3",
   "version": "3.7.5"
  }
 },
 "nbformat": 4,
 "nbformat_minor": 2
}
