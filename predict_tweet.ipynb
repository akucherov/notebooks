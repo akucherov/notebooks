{
 "cells": [
  {
   "cell_type": "code",
   "execution_count": 1,
   "metadata": {},
   "outputs": [],
   "source": [
    "import os\n",
    "import re\n",
    "import tweepy\n",
    "import joblib"
   ]
  },
  {
   "cell_type": "code",
   "execution_count": 6,
   "metadata": {},
   "outputs": [],
   "source": [
    "def last_tweet(name, auth):\n",
    "    api = tweepy.API(auth)\n",
    "    for page in tweepy.Cursor(api.user_timeline, screen_name=name, tweet_mode='extended', count=1).pages(1): \n",
    "        for tweet in page:\n",
    "            text = tweet.full_text.replace('\\n', ' ')\n",
    "            text = re.sub(r'\\s\\S+…', '', text, flags=re.UNICODE)\n",
    "            text = re.sub(r'\\shttps://t.co/[a-zA-Z_0-9]*', '', text)\n",
    "            text = re.sub(r'RT @[a-zA-Z_0-9]*:\\s', '', text)\n",
    "            text = re.sub(r'(\\d+),(\\d+)',r'\\1\\2',text)\n",
    "            return text\n",
    "    return \"\"\n",
    "\n",
    "def label(text):\n",
    "    label = parties[int(model.predict(vect.transform([text]))[0])]\n",
    "    print(text)\n",
    "    print('---')\n",
    "    print(label)\n",
    "    print('---')"
   ]
  },
  {
   "cell_type": "code",
   "execution_count": 3,
   "metadata": {},
   "outputs": [],
   "source": [
    "SRC_PATH = './data/'\n",
    "parties = [\"Liberal's tweet\",\"Labor's tweet\"]\n",
    "\n",
    "APP_KEY = os.getenv('TWITTER_APP_KEY')\n",
    "APP_SECRET = os.getenv('TWITTER_APP_SECRET')"
   ]
  },
  {
   "cell_type": "code",
   "execution_count": 4,
   "metadata": {},
   "outputs": [],
   "source": [
    "vect = joblib.load(SRC_PATH + \"liberal_labor_vect.pkl\")\n",
    "model = joblib.load(SRC_PATH + \"naive_bayes.pkl\")"
   ]
  },
  {
   "cell_type": "code",
   "execution_count": 7,
   "metadata": {},
   "outputs": [
    {
     "name": "stdout",
     "output_type": "stream",
     "text": [
      "Calm &amp; disciplined economic management allows us to continue to invest in things Australians need:   ✅The $540m\n",
      "---\n",
      "Liberal's tweet\n",
      "---\n",
      "This week I gave an adjournment speech on Veterans' Affairs. @AustralianLabor will work with the Morrison Govt in a\n",
      "---\n",
      "Labor's tweet\n",
      "---\n"
     ]
    }
   ],
   "source": [
    "auth = tweepy.AppAuthHandler(APP_KEY, APP_SECRET)\n",
    "\n",
    "\n",
    "label(last_tweet('LiberalAus', auth))\n",
    "label(last_tweet('AustralianLabor', auth))\n",
    "\n"
   ]
  },
  {
   "cell_type": "code",
   "execution_count": 10,
   "metadata": {},
   "outputs": [
    {
     "name": "stdout",
     "output_type": "stream",
     "text": [
      "準備完了です！ぞくぞくと隣の市からも集まって来ています。那須山が綺麗です。#ClimateStrike #GlobalClimateStrike #FridayForFuture #グローバル気候マーチ #小泉大臣聞こえますか\n",
      "---\n",
      "Labor's tweet\n",
      "---\n"
     ]
    }
   ],
   "source": [
    "label(last_tweet('350', auth))"
   ]
  }
 ],
 "metadata": {
  "kernelspec": {
   "display_name": "Python 3",
   "language": "python",
   "name": "python3"
  },
  "language_info": {
   "codemirror_mode": {
    "name": "ipython",
    "version": 3
   },
   "file_extension": ".py",
   "mimetype": "text/x-python",
   "name": "python",
   "nbconvert_exporter": "python",
   "pygments_lexer": "ipython3",
   "version": "3.7.5"
  }
 },
 "nbformat": 4,
 "nbformat_minor": 2
}
