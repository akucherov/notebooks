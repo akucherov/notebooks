{
 "cells": [
  {
   "cell_type": "code",
   "execution_count": null,
   "metadata": {},
   "outputs": [],
   "source": [
    "!pip install tweepy"
   ]
  },
  {
   "cell_type": "code",
   "execution_count": 1,
   "metadata": {},
   "outputs": [],
   "source": [
    "import os\n",
    "import tweepy"
   ]
  },
  {
   "cell_type": "code",
   "execution_count": 2,
   "metadata": {},
   "outputs": [],
   "source": [
    "SRC_PATH = './data/'\n",
    "\n",
    "APP_KEY = os.getenv('TWITTER_APP_KEY')\n",
    "APP_SECRET = os.getenv('TWITTER_APP_SECRET')"
   ]
  },
  {
   "cell_type": "code",
   "execution_count": 3,
   "metadata": {},
   "outputs": [],
   "source": [
    "def save_tweets(filename, tweets):\n",
    "    with open(filename, \"w+\") as file:\n",
    "        file.write(\"\\n\".join(tweets))\n",
    "        \n",
    "def tweets(name):\n",
    "    tweets = []\n",
    "    for page in tweepy.Cursor(api.user_timeline, screen_name=name, tweet_mode='extended', count=100).pages(20): \n",
    "        for tweet in page:\n",
    "            tweets.append(tweet.full_text.replace('\\n', ' '))\n",
    "    return tweets"
   ]
  },
  {
   "cell_type": "code",
   "execution_count": 4,
   "metadata": {},
   "outputs": [],
   "source": [
    "auth = tweepy.AppAuthHandler(APP_KEY, APP_SECRET)\n",
    "api = tweepy.API(auth)\n",
    "\n",
    "save_tweets(SRC_PATH + 'liberal.txt', tweets('LiberalAus'))\n",
    "save_tweets(SRC_PATH + 'labor.txt', tweets('AustralianLabor'))\n"
   ]
  },
  {
   "cell_type": "code",
   "execution_count": null,
   "metadata": {},
   "outputs": [],
   "source": []
  }
 ],
 "metadata": {
  "kernelspec": {
   "display_name": "Python 3",
   "language": "python",
   "name": "python3"
  },
  "language_info": {
   "codemirror_mode": {
    "name": "ipython",
    "version": 3
   },
   "file_extension": ".py",
   "mimetype": "text/x-python",
   "name": "python",
   "nbconvert_exporter": "python",
   "pygments_lexer": "ipython3",
   "version": "3.7.5"
  }
 },
 "nbformat": 4,
 "nbformat_minor": 2
}
